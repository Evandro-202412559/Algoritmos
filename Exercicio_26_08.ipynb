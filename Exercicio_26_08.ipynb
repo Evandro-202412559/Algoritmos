{
 "cells": [
  {
   "cell_type": "code",
   "execution_count": 12,
   "metadata": {},
   "outputs": [],
   "source": [
    "clientes = []\n",
    "\n",
    "\n",
    "def adicionar_cliente(nome, email, telefone, endereco):\n",
    "    cliente = [nome, email, telefone, endereco]\n",
    "    clientes.append(cliente)\n",
    "    print(f\"Cliente {nome} adicionado com sucesso!\\n\")"
   ]
  },
  {
   "cell_type": "code",
   "execution_count": 13,
   "metadata": {},
   "outputs": [],
   "source": [
    "def exibir_clientes():\n",
    "    if len(clientes) == 0:\n",
    "        print(\"Nenhum cliente cadastrado.\\n\")\n",
    "    else:\n",
    "        print(\"Lista de Clientes:\")\n",
    "        for i, cliente in enumerate(clientes, 1):\n",
    "            print(f\"{i}. Nome: {cliente[0]}, Email: {cliente[1]}, Telefone: {cliente[2]}, Endereço: {cliente[3]}\")\n",
    "        print()"
   ]
  },
  {
   "cell_type": "code",
   "execution_count": 14,
   "metadata": {},
   "outputs": [],
   "source": [
    "def buscar_cliente(email):\n",
    "    for cliente in clientes:\n",
    "        if cliente[1] == email:\n",
    "            print(f\"Cliente encontrado: Nome: {cliente[0]}, Email: {cliente[1]}, Telefone: {cliente[2]}, Endereço: {cliente[3]}\\n\")\n",
    "            return cliente\n",
    "    print(f\"Cliente com o email {email} não encontrado.\\n\")\n",
    "    return None"
   ]
  },
  {
   "cell_type": "code",
   "execution_count": 15,
   "metadata": {},
   "outputs": [],
   "source": [
    "def remover_cliente(email):\n",
    "    cliente = buscar_cliente(email)\n",
    "    if cliente:\n",
    "        clientes.remove(cliente)\n",
    "        print(f\"Cliente com o email {email} removido com sucesso!\\n\")"
   ]
  },
  {
   "cell_type": "code",
   "execution_count": 16,
   "metadata": {},
   "outputs": [],
   "source": [
    "def main():\n",
    "    while True:\n",
    "        print(\"Menu de Opções:\")\n",
    "        print(\"1. Adicionar Cliente\")\n",
    "        print(\"2. Exibir Clientes\")\n",
    "        print(\"3. Buscar Cliente por E-mail\")\n",
    "        print(\"4. Remover Cliente\")\n",
    "        print(\"5. Sair\")\n",
    "        \n",
    "        opcao = input(\"Escolha uma opção (1-5): \")\n",
    "        \n",
    "        if opcao == '1':\n",
    "            nome = input(\"Digite o nome do cliente: \")\n",
    "            email = input(\"Digite o e-mail do cliente: \")\n",
    "            telefone = input(\"Digite o telefone do cliente: \")\n",
    "            endereco = input(\"Digite o endereço do cliente: \")\n",
    "            adicionar_cliente(nome, email, telefone, endereco)\n",
    "        \n",
    "        elif opcao == '2':\n",
    "            exibir_clientes()\n",
    "        \n",
    "        elif opcao == '3':\n",
    "            email = input(\"Digite o e-mail do cliente a ser buscado: \")\n",
    "            buscar_cliente(email)\n",
    "        \n",
    "        elif opcao == '4':\n",
    "            email = input(\"Digite o e-mail do cliente a ser removido: \")\n",
    "            remover_cliente(email)\n",
    "        \n",
    "        elif opcao == '5':\n",
    "            print(\"Encerrando o sistema...\")\n",
    "            break\n",
    "        \n",
    "        else:\n",
    "            print(\"Opção inválida. Por favor, escolha uma opção válida.\\n\")\n"
   ]
  },
  {
   "cell_type": "code",
   "execution_count": null,
   "metadata": {},
   "outputs": [],
   "source": [
    "if __name__ == \"__main__\":\n",
    "    main()"
   ]
  }
 ],
 "metadata": {
  "kernelspec": {
   "display_name": "base",
   "language": "python",
   "name": "python3"
  },
  "language_info": {
   "codemirror_mode": {
    "name": "ipython",
    "version": 3
   },
   "file_extension": ".py",
   "mimetype": "text/x-python",
   "name": "python",
   "nbconvert_exporter": "python",
   "pygments_lexer": "ipython3",
   "version": "3.11.7"
  }
 },
 "nbformat": 4,
 "nbformat_minor": 2
}
